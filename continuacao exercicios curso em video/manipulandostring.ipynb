{
 "cells": [
  {
   "cell_type": "code",
   "execution_count": 18,
   "metadata": {},
   "outputs": [
    {
     "name": "stdout",
     "output_type": "stream",
     "text": [
      "seu nome tem SILVA!\n"
     ]
    }
   ],
   "source": [
    "# verificar se usuario tem SILVA no nome:\n",
    "nome = str(input('qual seu nome? ')).upper().strip().split()\n",
    "if 'SILVA' in nome:\n",
    "    print ('seu nome tem SILVA!')\n",
    "else:\n",
    "    print('seu nome não tem SILVA!')"
   ]
  },
  {
   "cell_type": "code",
   "execution_count": 13,
   "metadata": {},
   "outputs": [
    {
     "name": "stdout",
     "output_type": "stream",
     "text": [
      "analisando o numero: 12\n",
      "unidade: 2\n",
      "dezena: 1\n",
      "centena: 0\n",
      "milhar: 0\n"
     ]
    }
   ],
   "source": [
    "# separando digitos de um numero\n",
    "num = int(input('digite um numero: '))\n",
    "print (f'analisando o numero: {num}')\n",
    "u = num // 1 % 10\n",
    "d = num // 10 % 10\n",
    "c = num // 100 % 10\n",
    "m = num // 1000 % 10\n",
    "print(f'unidade: {u}')\n",
    "print(f'dezena: {d}')\n",
    "print(f'centena: {c}')\n",
    "print(f'milhar: {m}')"
   ]
  },
  {
   "cell_type": "code",
   "execution_count": 19,
   "metadata": {},
   "outputs": [
    {
     "name": "stdout",
     "output_type": "stream",
     "text": [
      "nome completo: Lucas Marques de Oliveira\n",
      "primeiro: Lucas\n",
      "último: Oliveira\n"
     ]
    }
   ],
   "source": [
    "# imprimir nome completo, primeiro e ultimo nome\n",
    "nome = str(input('digite seu nome: '))\n",
    "print(f'nome completo: {nome}')\n",
    "nome = nome.split()\n",
    "print(f'primeiro: {nome[0]}')\n",
    "print(f'último: {nome[-1]}')"
   ]
  },
  {
   "cell_type": "code",
   "execution_count": null,
   "metadata": {},
   "outputs": [],
   "source": []
  }
 ],
 "metadata": {
  "kernelspec": {
   "display_name": "Python 3",
   "language": "python",
   "name": "python3"
  },
  "language_info": {
   "codemirror_mode": {
    "name": "ipython",
    "version": 3
   },
   "file_extension": ".py",
   "mimetype": "text/x-python",
   "name": "python",
   "nbconvert_exporter": "python",
   "pygments_lexer": "ipython3",
   "version": "3.12.3"
  }
 },
 "nbformat": 4,
 "nbformat_minor": 2
}
